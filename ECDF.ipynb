{
 "cells": [
  {
   "cell_type": "code",
   "execution_count": 2,
   "id": "da84718f",
   "metadata": {},
   "outputs": [],
   "source": [
    "import pandas as pd\n",
    "import numpy as np\n",
    "import matplotlib.pyplot as plt\n",
    "import seaborn as sns\n",
    "\n",
    "df = pd.read_csv('./data/metabric.csv') # Metabric Cancer Data"
   ]
  },
  {
   "cell_type": "code",
   "execution_count": 3,
   "id": "4bfb9cbb",
   "metadata": {},
   "outputs": [
    {
     "data": {
      "text/html": [
       "<div>\n",
       "<style scoped>\n",
       "    .dataframe tbody tr th:only-of-type {\n",
       "        vertical-align: middle;\n",
       "    }\n",
       "\n",
       "    .dataframe tbody tr th {\n",
       "        vertical-align: top;\n",
       "    }\n",
       "\n",
       "    .dataframe thead th {\n",
       "        text-align: right;\n",
       "    }\n",
       "</style>\n",
       "<table border=\"1\" class=\"dataframe\">\n",
       "  <thead>\n",
       "    <tr style=\"text-align: right;\">\n",
       "      <th></th>\n",
       "      <th>Age at Diagnosis</th>\n",
       "      <th>Type of Breast Surgery</th>\n",
       "      <th>Cancer Type</th>\n",
       "      <th>Chemotherapy</th>\n",
       "      <th>Hormone Therapy</th>\n",
       "      <th>Lymph nodes examined positive</th>\n",
       "      <th>Mutation Count</th>\n",
       "      <th>Nottingham prognostic index</th>\n",
       "      <th>Overall Survival (Months)</th>\n",
       "      <th>Overall Survival Status</th>\n",
       "      <th>Radio Therapy</th>\n",
       "      <th>TMB (nonsynonymous)</th>\n",
       "      <th>Tumor Size</th>\n",
       "      <th>Tumor Stage</th>\n",
       "    </tr>\n",
       "  </thead>\n",
       "  <tbody>\n",
       "    <tr>\n",
       "      <th>0</th>\n",
       "      <td>43.19</td>\n",
       "      <td>BREAST CONSERVING</td>\n",
       "      <td>Breast Cancer</td>\n",
       "      <td>NO</td>\n",
       "      <td>YES</td>\n",
       "      <td>0.0</td>\n",
       "      <td>2.0</td>\n",
       "      <td>4.020</td>\n",
       "      <td>84.633333</td>\n",
       "      <td>0:LIVING</td>\n",
       "      <td>YES</td>\n",
       "      <td>2.615035</td>\n",
       "      <td>10.0</td>\n",
       "      <td>1.0</td>\n",
       "    </tr>\n",
       "    <tr>\n",
       "      <th>1</th>\n",
       "      <td>48.87</td>\n",
       "      <td>MASTECTOMY</td>\n",
       "      <td>Breast Cancer</td>\n",
       "      <td>YES</td>\n",
       "      <td>YES</td>\n",
       "      <td>1.0</td>\n",
       "      <td>2.0</td>\n",
       "      <td>4.030</td>\n",
       "      <td>163.700000</td>\n",
       "      <td>1:DECEASED</td>\n",
       "      <td>NO</td>\n",
       "      <td>2.615035</td>\n",
       "      <td>15.0</td>\n",
       "      <td>2.0</td>\n",
       "    </tr>\n",
       "    <tr>\n",
       "      <th>2</th>\n",
       "      <td>47.68</td>\n",
       "      <td>MASTECTOMY</td>\n",
       "      <td>Breast Cancer</td>\n",
       "      <td>YES</td>\n",
       "      <td>YES</td>\n",
       "      <td>3.0</td>\n",
       "      <td>1.0</td>\n",
       "      <td>4.050</td>\n",
       "      <td>164.933333</td>\n",
       "      <td>0:LIVING</td>\n",
       "      <td>YES</td>\n",
       "      <td>1.307518</td>\n",
       "      <td>25.0</td>\n",
       "      <td>2.0</td>\n",
       "    </tr>\n",
       "    <tr>\n",
       "      <th>3</th>\n",
       "      <td>76.97</td>\n",
       "      <td>MASTECTOMY</td>\n",
       "      <td>Breast Cancer</td>\n",
       "      <td>YES</td>\n",
       "      <td>YES</td>\n",
       "      <td>8.0</td>\n",
       "      <td>2.0</td>\n",
       "      <td>6.080</td>\n",
       "      <td>41.366667</td>\n",
       "      <td>1:DECEASED</td>\n",
       "      <td>YES</td>\n",
       "      <td>2.615035</td>\n",
       "      <td>40.0</td>\n",
       "      <td>2.0</td>\n",
       "    </tr>\n",
       "    <tr>\n",
       "      <th>4</th>\n",
       "      <td>78.77</td>\n",
       "      <td>MASTECTOMY</td>\n",
       "      <td>Breast Cancer</td>\n",
       "      <td>NO</td>\n",
       "      <td>YES</td>\n",
       "      <td>0.0</td>\n",
       "      <td>4.0</td>\n",
       "      <td>4.062</td>\n",
       "      <td>7.800000</td>\n",
       "      <td>1:DECEASED</td>\n",
       "      <td>YES</td>\n",
       "      <td>5.230071</td>\n",
       "      <td>31.0</td>\n",
       "      <td>4.0</td>\n",
       "    </tr>\n",
       "  </tbody>\n",
       "</table>\n",
       "</div>"
      ],
      "text/plain": [
       "   Age at Diagnosis Type of Breast Surgery    Cancer Type Chemotherapy  \\\n",
       "0             43.19      BREAST CONSERVING  Breast Cancer           NO   \n",
       "1             48.87             MASTECTOMY  Breast Cancer          YES   \n",
       "2             47.68             MASTECTOMY  Breast Cancer          YES   \n",
       "3             76.97             MASTECTOMY  Breast Cancer          YES   \n",
       "4             78.77             MASTECTOMY  Breast Cancer           NO   \n",
       "\n",
       "  Hormone Therapy  Lymph nodes examined positive  Mutation Count  \\\n",
       "0             YES                            0.0             2.0   \n",
       "1             YES                            1.0             2.0   \n",
       "2             YES                            3.0             1.0   \n",
       "3             YES                            8.0             2.0   \n",
       "4             YES                            0.0             4.0   \n",
       "\n",
       "   Nottingham prognostic index  Overall Survival (Months)  \\\n",
       "0                        4.020                  84.633333   \n",
       "1                        4.030                 163.700000   \n",
       "2                        4.050                 164.933333   \n",
       "3                        6.080                  41.366667   \n",
       "4                        4.062                   7.800000   \n",
       "\n",
       "  Overall Survival Status Radio Therapy  TMB (nonsynonymous)  Tumor Size  \\\n",
       "0                0:LIVING           YES             2.615035        10.0   \n",
       "1              1:DECEASED            NO             2.615035        15.0   \n",
       "2                0:LIVING           YES             1.307518        25.0   \n",
       "3              1:DECEASED           YES             2.615035        40.0   \n",
       "4              1:DECEASED           YES             5.230071        31.0   \n",
       "\n",
       "   Tumor Stage  \n",
       "0          1.0  \n",
       "1          2.0  \n",
       "2          2.0  \n",
       "3          2.0  \n",
       "4          4.0  "
      ]
     },
     "execution_count": 3,
     "metadata": {},
     "output_type": "execute_result"
    }
   ],
   "source": [
    "df.head()"
   ]
  },
  {
   "cell_type": "markdown",
   "id": "9d0f234e",
   "metadata": {},
   "source": [
    "# ECDF [Naive Double Loops Implementation]"
   ]
  },
  {
   "cell_type": "code",
   "execution_count": null,
   "id": "ce08933b",
   "metadata": {},
   "outputs": [],
   "source": [
    "x = df['Age at Diagnosis']\n",
    "\n",
    "# Naive double loops\n",
    "def L(x):\n",
    "    Z = np.sort(x.unique()) # Extract and sort unique values for x\n",
    "    L = np.zeros((len(Z),len(x)))\n",
    "    for j in range(len(Z)):\n",
    "        for i in range(len(x)):\n",
    "            L[j,i] = (x[i] <= Z[j])\n",
    "    return L"
   ]
  },
  {
   "cell_type": "markdown",
   "id": "31b76605",
   "metadata": {},
   "source": [
    "# x = df['Age at Diagnosis']"
   ]
  },
  {
   "cell_type": "code",
   "execution_count": 6,
   "id": "20ce9521",
   "metadata": {},
   "outputs": [
    {
     "data": {
      "text/plain": [
       "0       43.19\n",
       "1       48.87\n",
       "2       47.68\n",
       "3       76.97\n",
       "4       78.77\n",
       "        ...  \n",
       "1338    70.65\n",
       "1339    75.62\n",
       "1340    52.84\n",
       "1341    48.59\n",
       "1342    63.20\n",
       "Name: Age at Diagnosis, Length: 1343, dtype: float64"
      ]
     },
     "execution_count": 6,
     "metadata": {},
     "output_type": "execute_result"
    }
   ],
   "source": [
    "x"
   ]
  },
  {
   "cell_type": "markdown",
   "id": "e1bf1f40",
   "metadata": {},
   "source": [
    "# ECDF Computation for the Age at Diagnosis Column"
   ]
  },
  {
   "cell_type": "code",
   "execution_count": 5,
   "id": "0d6572f4",
   "metadata": {},
   "outputs": [
    {
     "data": {
      "text/plain": [
       "array([[0., 0., 0., ..., 0., 0., 0.],\n",
       "       [0., 0., 0., ..., 0., 0., 0.],\n",
       "       [0., 0., 0., ..., 0., 0., 0.],\n",
       "       ...,\n",
       "       [1., 1., 1., ..., 1., 1., 1.],\n",
       "       [1., 1., 1., ..., 1., 1., 1.],\n",
       "       [1., 1., 1., ..., 1., 1., 1.]], shape=(1167, 1343))"
      ]
     },
     "execution_count": 5,
     "metadata": {},
     "output_type": "execute_result"
    }
   ],
   "source": [
    "L(x)"
   ]
  }
 ],
 "metadata": {
  "kernelspec": {
   "display_name": "pr_class",
   "language": "python",
   "name": "python3"
  },
  "language_info": {
   "codemirror_mode": {
    "name": "ipython",
    "version": 3
   },
   "file_extension": ".py",
   "mimetype": "text/x-python",
   "name": "python",
   "nbconvert_exporter": "python",
   "pygments_lexer": "ipython3",
   "version": "3.13.5"
  }
 },
 "nbformat": 4,
 "nbformat_minor": 5
}
