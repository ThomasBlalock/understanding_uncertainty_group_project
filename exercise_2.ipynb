{
 "cells": [
  {
   "cell_type": "code",
   "execution_count": null,
   "id": "f39eb859",
   "metadata": {},
   "outputs": [],
   "source": [
    "import pandas as pd\n",
    "import numpy as np\n",
    "import matplotlib.pyplot as plt\n",
    "import seaborn as sns\n",
    "\n",
    "df = pd.read_csv('./data/metabric.csv') # Metabric Cancer Data\n",
    "df.head()"
   ]
  },
  {
   "cell_type": "code",
   "execution_count": null,
   "id": "7c85ce18",
   "metadata": {},
   "outputs": [],
   "source": [
    "# Q1\n",
    "x = df['Age at Diagnosis']\n",
    "\n",
    "# Naive double loops\n",
    "def L(x):\n",
    "    Z = np.sort(x.unique()) # Extract and sort unique values for x\n",
    "    L = np.zeros((len(Z),len(x)))\n",
    "    for j in range(len(Z)):\n",
    "        for i in range(len(x)):\n",
    "            L[j,i] = (x[i] <= Z[j])\n",
    "    return L\n",
    "\n",
    "L(x)"
   ]
  },
  {
   "cell_type": "code",
   "execution_count": null,
   "id": "f3f85f75",
   "metadata": {},
   "outputs": [],
   "source": [
    "# Q2\n",
    "def compute_quantile(data, q=0.5):\n",
    "    data = np.sort(data)\n",
    "    pos = (len(data) - 1) * q\n",
    "    lower = int(np.floor(pos))\n",
    "    upper = int(np.ceil(pos))\n",
    "    if lower == upper:\n",
    "        return data[int(pos)]\n",
    "    return data[lower] + (pos - lower) * (data[upper] - data[lower])\n",
    "\n",
    "for i in [0.1, 0.25, 0.5, 0.75, 0.9]:\n",
    "    print(i, compute_quantile(df['Age at Diagnosis'], i), np.percentile(df['Age at Diagnosis'], i * 100))"
   ]
  },
  {
   "cell_type": "code",
   "execution_count": null,
   "id": "c9f16f3e",
   "metadata": {},
   "outputs": [],
   "source": [
    "# Q3\n",
    "def calc_IQR(data):\n",
    "    q1 = compute_quantile(data, 0.25)\n",
    "    q3 = compute_quantile(data, 0.75)\n",
    "    iqr = q3 - q1\n",
    "    left_whisker = q1 - 1.5 * iqr\n",
    "    right_whisker = q3 + 1.5 * iqr\n",
    "    return [iqr, left_whisker, right_whisker]\n",
    "\n",
    "print (calc_IQR(df[\"Age at Diagnosis\"]))"
   ]
  },
  {
   "cell_type": "code",
   "execution_count": null,
   "id": "cdc93b41",
   "metadata": {},
   "outputs": [],
   "source": [
    "# Q4\n",
    "def five_num_summary(data):\n",
    "    q1 = compute_quantile(data, 0.25)\n",
    "    q3 = compute_quantile(data, 0.75)\n",
    "    median = compute_quantile(data, 0.5)\n",
    "    whisker_high = min(q3 + 1.5 * (q3 - q1), data.max())\n",
    "    whisker_low = max(q1 - 1.5 * (q3 - q1), data.min())\n",
    "    return [data.min(), whisker_low, q1, median, q3, whisker_high, data.max()]\n",
    "\n",
    "print(five_num_summary(df[\"Age at Diagnosis\"]))"
   ]
  },
  {
   "cell_type": "code",
   "execution_count": null,
   "id": "53695145",
   "metadata": {},
   "outputs": [],
   "source": [
    "# Q5\n",
    "print(five_num_summary(df[\"Age at Diagnosis\"]))\n",
    "sns.boxplot(x=\"Cancer Type\", y=\"Age at Diagnosis\", data=df)"
   ]
  },
  {
   "cell_type": "code",
   "execution_count": null,
   "id": "d492883d",
   "metadata": {},
   "outputs": [],
   "source": [
    "# Q6\n",
    "def find_outliers(data):\n",
    "    q1 = compute_quantile(data, 0.25)\n",
    "    q3 = compute_quantile(data, 0.75)\n",
    "    return (data < (q1 - 1.5 * (q3 - q1))) | (data > (q3 + 1.5 * (q3 - q1)))\n",
    "\n",
    "for a in find_outliers(df[\"Age at Diagnosis\"]):\n",
    "    print(a)"
   ]
  }
 ],
 "metadata": {
  "language_info": {
   "name": "python"
  }
 },
 "nbformat": 4,
 "nbformat_minor": 5
}
