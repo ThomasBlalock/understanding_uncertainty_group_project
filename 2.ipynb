{
 "cells": [
  {
   "cell_type": "code",
   "execution_count": 2,
   "id": "fa217bc7",
   "metadata": {},
   "outputs": [
    {
     "data": {
      "text/html": [
       "<div>\n",
       "<style scoped>\n",
       "    .dataframe tbody tr th:only-of-type {\n",
       "        vertical-align: middle;\n",
       "    }\n",
       "\n",
       "    .dataframe tbody tr th {\n",
       "        vertical-align: top;\n",
       "    }\n",
       "\n",
       "    .dataframe thead th {\n",
       "        text-align: right;\n",
       "    }\n",
       "</style>\n",
       "<table border=\"1\" class=\"dataframe\">\n",
       "  <thead>\n",
       "    <tr style=\"text-align: right;\">\n",
       "      <th></th>\n",
       "      <th>0</th>\n",
       "      <th>1</th>\n",
       "      <th>2</th>\n",
       "    </tr>\n",
       "  </thead>\n",
       "  <tbody>\n",
       "    <tr>\n",
       "      <th>Age at Diagnosis</th>\n",
       "      <td>43.19</td>\n",
       "      <td>48.87</td>\n",
       "      <td>47.68</td>\n",
       "    </tr>\n",
       "    <tr>\n",
       "      <th>Type of Breast Surgery</th>\n",
       "      <td>BREAST CONSERVING</td>\n",
       "      <td>MASTECTOMY</td>\n",
       "      <td>MASTECTOMY</td>\n",
       "    </tr>\n",
       "    <tr>\n",
       "      <th>Cancer Type</th>\n",
       "      <td>Breast Cancer</td>\n",
       "      <td>Breast Cancer</td>\n",
       "      <td>Breast Cancer</td>\n",
       "    </tr>\n",
       "    <tr>\n",
       "      <th>Chemotherapy</th>\n",
       "      <td>NO</td>\n",
       "      <td>YES</td>\n",
       "      <td>YES</td>\n",
       "    </tr>\n",
       "    <tr>\n",
       "      <th>Hormone Therapy</th>\n",
       "      <td>YES</td>\n",
       "      <td>YES</td>\n",
       "      <td>YES</td>\n",
       "    </tr>\n",
       "    <tr>\n",
       "      <th>Lymph nodes examined positive</th>\n",
       "      <td>0.0</td>\n",
       "      <td>1.0</td>\n",
       "      <td>3.0</td>\n",
       "    </tr>\n",
       "    <tr>\n",
       "      <th>Mutation Count</th>\n",
       "      <td>2.0</td>\n",
       "      <td>2.0</td>\n",
       "      <td>1.0</td>\n",
       "    </tr>\n",
       "    <tr>\n",
       "      <th>Nottingham prognostic index</th>\n",
       "      <td>4.02</td>\n",
       "      <td>4.03</td>\n",
       "      <td>4.05</td>\n",
       "    </tr>\n",
       "    <tr>\n",
       "      <th>Overall Survival (Months)</th>\n",
       "      <td>84.633333</td>\n",
       "      <td>163.7</td>\n",
       "      <td>164.933333</td>\n",
       "    </tr>\n",
       "    <tr>\n",
       "      <th>Overall Survival Status</th>\n",
       "      <td>0:LIVING</td>\n",
       "      <td>1:DECEASED</td>\n",
       "      <td>0:LIVING</td>\n",
       "    </tr>\n",
       "    <tr>\n",
       "      <th>Radio Therapy</th>\n",
       "      <td>YES</td>\n",
       "      <td>NO</td>\n",
       "      <td>YES</td>\n",
       "    </tr>\n",
       "    <tr>\n",
       "      <th>TMB (nonsynonymous)</th>\n",
       "      <td>2.615035</td>\n",
       "      <td>2.615035</td>\n",
       "      <td>1.307518</td>\n",
       "    </tr>\n",
       "    <tr>\n",
       "      <th>Tumor Size</th>\n",
       "      <td>10.0</td>\n",
       "      <td>15.0</td>\n",
       "      <td>25.0</td>\n",
       "    </tr>\n",
       "    <tr>\n",
       "      <th>Tumor Stage</th>\n",
       "      <td>1.0</td>\n",
       "      <td>2.0</td>\n",
       "      <td>2.0</td>\n",
       "    </tr>\n",
       "  </tbody>\n",
       "</table>\n",
       "</div>"
      ],
      "text/plain": [
       "                                               0              1              2\n",
       "Age at Diagnosis                           43.19          48.87          47.68\n",
       "Type of Breast Surgery         BREAST CONSERVING     MASTECTOMY     MASTECTOMY\n",
       "Cancer Type                        Breast Cancer  Breast Cancer  Breast Cancer\n",
       "Chemotherapy                                  NO            YES            YES\n",
       "Hormone Therapy                              YES            YES            YES\n",
       "Lymph nodes examined positive                0.0            1.0            3.0\n",
       "Mutation Count                               2.0            2.0            1.0\n",
       "Nottingham prognostic index                 4.02           4.03           4.05\n",
       "Overall Survival (Months)              84.633333          163.7     164.933333\n",
       "Overall Survival Status                 0:LIVING     1:DECEASED       0:LIVING\n",
       "Radio Therapy                                YES             NO            YES\n",
       "TMB (nonsynonymous)                     2.615035       2.615035       1.307518\n",
       "Tumor Size                                  10.0           15.0           25.0\n",
       "Tumor Stage                                  1.0            2.0            2.0"
      ]
     },
     "execution_count": 2,
     "metadata": {},
     "output_type": "execute_result"
    }
   ],
   "source": [
    "import pandas as pd\n",
    "import numpy as np\n",
    "\n",
    "df = pd.read_csv('./data/metabric.csv') # Metabric Cancer Data\n",
    "df.head(3).T"
   ]
  },
  {
   "cell_type": "code",
   "execution_count": 9,
   "id": "480ad2f5",
   "metadata": {},
   "outputs": [],
   "source": [
    "def compute_quantile(data, quantile=0.5):\n",
    "    data = np.sort(data)\n",
    "    if len(data) % 2 == 0:\n",
    "        return (data[int(len(data) * quantile - 1)] + data[int(len(data) * quantile)]) / 2\n",
    "    else:\n",
    "        return data[int(len(data) * quantile)]"
   ]
  },
  {
   "cell_type": "code",
   "execution_count": 14,
   "id": "c315e23a",
   "metadata": {},
   "outputs": [
    {
     "name": "stdout",
     "output_type": "stream",
     "text": [
      "0.1 43.06 43.064\n",
      "0.25 51.01 51.045\n",
      "0.5 61.14 61.14\n",
      "0.75 69.83 69.815\n",
      "0.9 77.12 77.114\n"
     ]
    }
   ],
   "source": [
    "for i in [0.1, 0.25, 0.5, 0.75, 0.9]:\n",
    "    print(i, compute_quantile(df['Age at Diagnosis'], i), np.percentile(df['Age at Diagnosis'], i * 100))\n"
   ]
  },
  {
   "cell_type": "code",
   "execution_count": 15,
   "id": "3e624c29",
   "metadata": {},
   "outputs": [
    {
     "name": "stdout",
     "output_type": "stream",
     "text": [
      "76.37\n",
      "76.37\n"
     ]
    }
   ],
   "source": [
    "print(df['Age at Diagnosis'][int(0.75*len(df['Age at Diagnosis']))])\n",
    "print(df['Age at Diagnosis'][int(0.75*len(df['Age at Diagnosis']-1))])"
   ]
  }
 ],
 "metadata": {
  "kernelspec": {
   "display_name": "understanding_uncertainty",
   "language": "python",
   "name": "python3"
  },
  "language_info": {
   "codemirror_mode": {
    "name": "ipython",
    "version": 3
   },
   "file_extension": ".py",
   "mimetype": "text/x-python",
   "name": "python",
   "nbconvert_exporter": "python",
   "pygments_lexer": "ipython3",
   "version": "3.13.5"
  }
 },
 "nbformat": 4,
 "nbformat_minor": 5
}
